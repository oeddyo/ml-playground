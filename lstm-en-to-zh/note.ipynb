{
 "cells": [
  {
   "cell_type": "code",
   "execution_count": 3,
   "metadata": {
    "collapsed": true
   },
   "outputs": [],
   "source": [
    "import torch\n",
    "import numpy as np\n",
    "import pandas as pd"
   ]
  },
  {
   "cell_type": "code",
   "execution_count": 4,
   "outputs": [],
   "source": [
    "the_seed = 42\n",
    "torch.manual_seed(the_seed)\n",
    "torch.cuda.manual_seed(the_seed)\n",
    "np.random.seed(the_seed)"
   ],
   "metadata": {
    "collapsed": false
   }
  },
  {
   "cell_type": "markdown",
   "source": [
    "Read data. To be generic we do not hard code variable names as their language name. Let's simply call them source and destination"
   ],
   "metadata": {
    "collapsed": false
   }
  },
  {
   "cell_type": "code",
   "execution_count": 7,
   "outputs": [
    {
     "name": "stdout",
     "output_type": "stream",
     "text": [
      "source         With reforms of the traditionally Western-domi...\n",
      "destination    随着传统西方主导的改革陷入僵局，人们转而创造其他替代性措施； 例如中国带头创建的亚洲基础设施...\n",
      "Name: 227499, dtype: object\n"
     ]
    }
   ],
   "source": [
    "source_file = \"news-commentary-v13.zh-en.en\"\n",
    "dest_file = \"news-commentary-v13.zh-en.zh\"\n",
    "\n",
    "src_lines = open(source_file).readlines()\n",
    "dest_lines = open(dest_file).readlines()\n",
    "\n",
    "# Shuffle the DataFrame rows\n",
    "df = pd.DataFrame(list(zip(src_lines, dest_lines)), columns=['source', 'destination'])\n",
    "df = df.sample(frac=1).reset_index(drop=True)\n",
    "\n",
    "train_offset = int(len(df) * 0.8)\n",
    "test_offset = int(len(df) * 0.9)\n",
    "\n",
    "train_set = df.iloc[:train_offset]\n",
    "test_set = df.iloc[train_offset: test_offset]\n",
    "valid_set = df.iloc[test_offset:]\n",
    "\n",
    "print(valid_set.iloc[0])\n",
    "\n",
    "\n"
   ],
   "metadata": {
    "collapsed": false
   }
  },
  {
   "cell_type": "code",
   "execution_count": null,
   "outputs": [],
   "source": [],
   "metadata": {
    "collapsed": false
   }
  }
 ],
 "metadata": {
  "kernelspec": {
   "display_name": "Python 3",
   "language": "python",
   "name": "python3"
  },
  "language_info": {
   "codemirror_mode": {
    "name": "ipython",
    "version": 2
   },
   "file_extension": ".py",
   "mimetype": "text/x-python",
   "name": "python",
   "nbconvert_exporter": "python",
   "pygments_lexer": "ipython2",
   "version": "2.7.6"
  }
 },
 "nbformat": 4,
 "nbformat_minor": 0
}
