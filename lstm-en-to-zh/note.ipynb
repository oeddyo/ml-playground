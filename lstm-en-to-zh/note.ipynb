{
 "cells": [
  {
   "cell_type": "code",
   "execution_count": 57,
   "metadata": {
    "collapsed": true
   },
   "outputs": [],
   "source": [
    "import numpy as np\n",
    "import pandas as pd\n",
    "import spacy\n",
    "import torchtext"
   ]
  },
  {
   "cell_type": "code",
   "execution_count": 58,
   "outputs": [],
   "source": [
    "the_seed = 42\n",
    "torch.manual_seed(the_seed)\n",
    "torch.cuda.manual_seed(the_seed)\n",
    "np.random.seed(the_seed)"
   ],
   "metadata": {
    "collapsed": false
   }
  },
  {
   "cell_type": "code",
   "execution_count": 58,
   "outputs": [],
   "source": [],
   "metadata": {
    "collapsed": false
   }
  },
  {
   "cell_type": "markdown",
   "source": [
    "Read data. To be generic we do not hard code variable names as their language name. Let's simply call them source and destination"
   ],
   "metadata": {
    "collapsed": false
   }
  },
  {
   "cell_type": "code",
   "execution_count": 59,
   "outputs": [
    {
     "name": "stdout",
     "output_type": "stream",
     "text": [
      "test tokenizing:  ['秦始皇', '是', '一个', '好', '国王', '？']\n"
     ]
    }
   ],
   "source": [
    "# set language here\n",
    "language_meta = {\n",
    "    \"en\": {\n",
    "        \"spacy\": \"en_core_web_sm\",\n",
    "        \"input_file\": \"news-commentary-v13.zh-en.en\"\n",
    "    },\n",
    "    \"zh\": {\n",
    "        \"spacy\": \"zh_core_web_sm\",\n",
    "        \"input_file\": \"news-commentary-v13.zh-en.zh\"\n",
    "    }\n",
    "}\n",
    "\n",
    "source_language = \"en\"\n",
    "dest_language = \"zh\"\n",
    "\n",
    "source_nlp = spacy.load(language_meta[source_language][\"spacy\"])\n",
    "dest_nlp = spacy.load(language_meta[dest_language][\"spacy\"])\n",
    "source_file = language_meta[source_language][\"input_file\"]\n",
    "dest_file = language_meta[dest_language][\"input_file\"]\n",
    "\n",
    "tokens = dest_nlp.tokenizer(\"秦始皇是一个好国王？\")\n",
    "\n",
    "print('test tokenizing: ', [t.text for t in tokens])\n",
    "\n"
   ],
   "metadata": {
    "collapsed": false
   }
  },
  {
   "cell_type": "code",
   "execution_count": 60,
   "outputs": [],
   "source": [
    "# todo: remove cap before start training\n",
    "src_lines = open(source_file).readlines()[:100]\n",
    "dest_lines = open(dest_file).readlines()[:100]\n",
    "\n",
    "# Shuffle the DataFrame rows\n",
    "df = pd.DataFrame(list(zip(src_lines, dest_lines)), columns=['source', 'destination'])\n",
    "df = df.sample(frac=1).reset_index(drop=True)\n",
    "\n",
    "train_offset = int(len(df) * 0.8)\n",
    "test_offset = int(len(df) * 0.9)\n",
    "\n",
    "train_pairs = df.iloc[:train_offset]\n",
    "test_pairs = df.iloc[train_offset: test_offset]\n",
    "valid_pairs = df.iloc[test_offset:]\n",
    "\n",
    "\n"
   ],
   "metadata": {
    "collapsed": false
   }
  },
  {
   "cell_type": "code",
   "execution_count": 61,
   "outputs": [
    {
     "name": "stdout",
     "output_type": "stream",
     "text": [
      "['<SOS>', 'the', 'ambition', 'was', 'to', 'complete', 'the', 'negotiations', 'on', '“', 'one', 'tank', 'of', 'gas', '.', '”', '\\n', '<EOS>']\n"
     ]
    }
   ],
   "source": [
    "UNKNOWN_TOKEN = \"<UNK>\"\n",
    "PADDING_TOKEN = \"<PAD>\"\n",
    "EOS_TOKEN = \"<EOS>\"\n",
    "SOS_TOKEN = \"<SOS>\"\n",
    "\n",
    "SPECIAL_TOKENS = [UNKNOWN_TOKEN, PADDING_TOKEN, EOS_TOKEN, SOS_TOKEN]\n",
    "\n",
    "\n",
    "def process_sentence(src_sent, nlp_tokenizer, max_token=100):\n",
    "    return [SOS_TOKEN] + [t.text for t in nlp_tokenizer.tokenizer(src_sent.lower())][:max_token] + [EOS_TOKEN]\n",
    "\n",
    "\n",
    "src_tokens_list = [process_sentence(pair.source, source_nlp) for _, pair in train_pairs.iterrows()]\n",
    "\n",
    "dest_tokens_list = [process_sentence(pair.destination, dest_nlp) for _, pair in train_pairs.iterrows()]\n",
    "\n",
    "print(src_tokens_list[0])\n",
    "\n",
    "src_vocab = torchtext.vocab.build_vocab_from_iterator(\n",
    "    src_tokens_list,\n",
    "    min_freq=1,\n",
    "    specials=SPECIAL_TOKENS\n",
    ")\n",
    "\n",
    "dest_vocab = torchtext.vocab.build_vocab_from_iterator(\n",
    "    dest_tokens_list,\n",
    "    min_freq=1,\n",
    "    specials=SPECIAL_TOKENS\n",
    ")\n",
    "\n",
    "src_vocab.set_default_index(0)\n",
    "dest_vocab.set_default_index(0)\n",
    "\n",
    "assert src_vocab.lookup_indices([UNKNOWN_TOKEN, PADDING_TOKEN, EOS_TOKEN, SOS_TOKEN]) == [0, 1, 2, 3]\n",
    "assert dest_vocab.lookup_indices([UNKNOWN_TOKEN, PADDING_TOKEN, EOS_TOKEN, SOS_TOKEN]) == [0, 1, 2, 3]\n"
   ],
   "metadata": {
    "collapsed": false
   }
  },
  {
   "cell_type": "code",
   "execution_count": 61,
   "outputs": [],
   "source": [],
   "metadata": {
    "collapsed": false
   }
  },
  {
   "cell_type": "code",
   "execution_count": 61,
   "outputs": [],
   "source": [],
   "metadata": {
    "collapsed": false
   }
  }
 ],
 "metadata": {
  "kernelspec": {
   "display_name": "Python 3",
   "language": "python",
   "name": "python3"
  },
  "language_info": {
   "codemirror_mode": {
    "name": "ipython",
    "version": 2
   },
   "file_extension": ".py",
   "mimetype": "text/x-python",
   "name": "python",
   "nbconvert_exporter": "python",
   "pygments_lexer": "ipython2",
   "version": "2.7.6"
  }
 },
 "nbformat": 4,
 "nbformat_minor": 0
}
